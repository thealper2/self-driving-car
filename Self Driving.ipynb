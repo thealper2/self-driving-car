{
 "cells": [
  {
   "cell_type": "markdown",
   "id": "f524a316-afc1-4c74-bcb1-2118e72e19e8",
   "metadata": {},
   "source": [
    "# Import Libraries"
   ]
  },
  {
   "cell_type": "code",
   "execution_count": null,
   "id": "dd1e8c5e-1c7a-47e7-a583-60398ece200c",
   "metadata": {},
   "outputs": [],
   "source": [
    "import os\n",
    "os.environ['TF_CPP_MIN_LOG_LEVEL'] = '3'\n",
    "import cv2\n",
    "import pandas as pd\n",
    "import numpy as np\n",
    "import ntpath\n",
    "import io\n",
    "import tqdm\n",
    "import random\n",
    "import tensorflow as tf\n",
    "import matplotlib.pyplot as plt\n",
    "import matplotlib.image as mpimg\n",
    "from tensorflow.keras import layers, optimizers, models\n",
    "from tensorflow.keras.utils import plot_model\n",
    "from sklearn.model_selection import train_test_split\n",
    "from sklearn.utils import shuffle\n",
    "from imgaug import augmenters\n",
    "\n",
    "from IPython.display import Markdown\n",
    "\n",
    "def bold(string):\n",
    "    display(Markdown(\"**\" + string + \"**\"))\n",
    "\n",
    "import warnings\n",
    "from sklearn.exceptions import ConvergenceWarning\n",
    "warnings.filterwarnings(\"ignore\", category=UserWarning)\n",
    "warnings.filterwarnings(\"ignore\", category=FutureWarning)\n",
    "warnings.filterwarnings(\"ignore\", category=ConvergenceWarning)"
   ]
  },
  {
   "cell_type": "markdown",
   "id": "233b1f6e-167b-4b14-b4a0-61228ebed0c3",
   "metadata": {},
   "source": [
    "# Load Data"
   ]
  },
  {
   "cell_type": "code",
   "execution_count": null,
   "id": "4ea3ac99-547c-4cdf-9875-d8cbb7ed01aa",
   "metadata": {},
   "outputs": [],
   "source": [
    "root_dir = '/mnt/d/Datasets/track-master/'\n",
    "driving_log_file_path = '/mnt/d/Datasets/track-master/driving_log.csv'\n",
    "driving_images_file_path = '/mnt/d/Datasets/track-master/IMG/'"
   ]
  },
  {
   "cell_type": "code",
   "execution_count": null,
   "id": "e00c916e-3c96-4af4-8784-b851f4a8cdee",
   "metadata": {},
   "outputs": [],
   "source": [
    "names = ['center', 'left', 'right', 'steering', 'throttle', 'reverse', 'speed']"
   ]
  },
  {
   "cell_type": "code",
   "execution_count": null,
   "id": "e2569bb9-c3a2-448b-be12-7b7c7bdf7f40",
   "metadata": {},
   "outputs": [],
   "source": [
    "df = pd.read_csv(driving_log_file_path, names=names)\n",
    "df.head()"
   ]
  },
  {
   "cell_type": "code",
   "execution_count": null,
   "id": "71779024-bdf9-4a05-b4d8-79844ee7aa9b",
   "metadata": {},
   "outputs": [],
   "source": [
    "def df_stats(data):\n",
    "    bold(\" SHAPE \".center(50, \"#\"))\n",
    "    print(\"ROWS: {}\".format(data.shape[0]))\n",
    "    print(\"COLS: {}\".format(data.shape[1]))\n",
    "    bold(\" TYPES \".center(50, \"#\"))\n",
    "    print(data.dtypes)\n",
    "    bold(\" MISSING VALUES \".center(50, \"#\"))\n",
    "    print(data.isnull().sum())\n",
    "    bold(\" DUPLICATED VALUES \".center(50, \"#\"))\n",
    "    print(\"NUMBER OF DUPLICATED VALUES: {}\".format(data.duplicated().sum()))\n",
    "    #bold(\" DESCRIBE \".center(50, \"#\"))\n",
    "    #print(data.describe().T)\n",
    "    bold(\" MEMORY USAGE \".center(50, \"#\"))\n",
    "    buf = io.StringIO()\n",
    "    data.info(buf=buf)\n",
    "    info = buf.getvalue().split(\"\\n\")[-2].split(\":\")[1].strip()\n",
    "    print(\"Memory Usage: {}\".format(info))"
   ]
  },
  {
   "cell_type": "code",
   "execution_count": null,
   "id": "12b0e8fb-da81-4f5c-9975-16b3098ebfda",
   "metadata": {},
   "outputs": [],
   "source": [
    "df_stats(df)"
   ]
  },
  {
   "cell_type": "markdown",
   "id": "da914eb3-5337-4739-ab85-005a6377b9b0",
   "metadata": {},
   "source": [
    "# EDA"
   ]
  },
  {
   "cell_type": "code",
   "execution_count": null,
   "id": "9a509403-6ed6-48da-8c47-1033b536660f",
   "metadata": {},
   "outputs": [],
   "source": [
    "num_bins = 25\n",
    "samples_per_bin = 400\n",
    "hist, bins = np.histogram(df[\"steering\"], num_bins)\n",
    "center = (bins[:-1] + bins[1:]) * 0.5\n",
    "plt.bar(center, hist, width=0.05)\n",
    "plt.plot(\n",
    "    (np.min(df[\"steering\"]), np.max(df[\"steering\"])),\n",
    "    (samples_per_bin, samples_per_bin),\n",
    ")"
   ]
  },
  {
   "cell_type": "markdown",
   "id": "8de96d7d-2b9c-4b89-8d78-a41d3a9c221a",
   "metadata": {},
   "source": [
    "# Preprocess"
   ]
  },
  {
   "cell_type": "code",
   "execution_count": null,
   "id": "397083fc-f634-4fbe-abbd-ebd9d11455f6",
   "metadata": {},
   "outputs": [],
   "source": [
    "remove_list = []\n",
    "for j in range(num_bins):\n",
    "    list_ = np.where((df[\"steering\"] >= bins[j]) & (df[\"steering\"] <= bins[j + 1]))[0]\n",
    "    list_ = shuffle(list_)[samples_per_bin:]\n",
    "    remove_list.extend(list_)"
   ]
  },
  {
   "cell_type": "code",
   "execution_count": null,
   "id": "0c38f4cc-80b0-4f8d-9dd1-33eba9cb9171",
   "metadata": {},
   "outputs": [],
   "source": [
    "print('Before Removing:', len(df))"
   ]
  },
  {
   "cell_type": "code",
   "execution_count": null,
   "id": "caa85792-50d9-4283-b547-ffbf4e251ce3",
   "metadata": {},
   "outputs": [],
   "source": [
    "df.drop(df.index[remove_list], inplace=True)"
   ]
  },
  {
   "cell_type": "code",
   "execution_count": null,
   "id": "bb3555e6-b242-4ace-9b6f-3c31cfccb473",
   "metadata": {},
   "outputs": [],
   "source": [
    "print('After Removing:', len(df))"
   ]
  },
  {
   "cell_type": "code",
   "execution_count": null,
   "id": "90eab24e-a44f-49cb-9971-550a61cdcbc5",
   "metadata": {},
   "outputs": [],
   "source": [
    "hist, bins = np.histogram(df[\"steering\"], num_bins)\n",
    "center = (bins[:-1] + bins[1:]) * 0.5\n",
    "plt.bar(center, hist, width=0.05)\n",
    "plt.plot(\n",
    "    (np.min(df[\"steering\"]), np.max(df[\"steering\"])),\n",
    "    (samples_per_bin, samples_per_bin),\n",
    ")"
   ]
  },
  {
   "cell_type": "code",
   "execution_count": null,
   "id": "d84c15d2-2903-4f8e-9863-2c736b0222af",
   "metadata": {},
   "outputs": [],
   "source": [
    "image_paths = []\n",
    "steerings = []\n",
    "\n",
    "for idx, row in tqdm.tqdm(df.iterrows()):\n",
    "    center = row['center']\n",
    "    image_paths.append(center)\n",
    "    steerings.append(float(row['steering']))\n",
    "    \n",
    "    left = row['left']\n",
    "    image_paths.append(left)\n",
    "    steerings.append(float(row['steering']) + 0.15)\n",
    "    \n",
    "    right = row['right']\n",
    "    image_paths.append(right)\n",
    "    steerings.append(float(row['steering']) - 0.15)"
   ]
  },
  {
   "cell_type": "code",
   "execution_count": null,
   "id": "3093e3ae-17b5-407d-ae15-c784624c1b89",
   "metadata": {},
   "outputs": [],
   "source": [
    "image_paths = np.array(image_paths)\n",
    "steerings = np.array(steerings)"
   ]
  },
  {
   "cell_type": "code",
   "execution_count": null,
   "id": "65324b7e-ac79-4d36-81b8-a5be42908331",
   "metadata": {},
   "outputs": [],
   "source": [
    "X_train, X_test, y_train, y_test = train_test_split(image_paths, steerings, test_size=0.1, random_state=42)"
   ]
  },
  {
   "cell_type": "code",
   "execution_count": null,
   "id": "9712e511-4d3a-4ea7-83ca-ea3fca7d475b",
   "metadata": {},
   "outputs": [],
   "source": [
    "print('X_train shape:', X_train.shape)\n",
    "print('X_test shape:', X_test.shape)\n",
    "print('y_train shape:', y_train.shape)\n",
    "print('y_test shape:', y_test.shape)"
   ]
  },
  {
   "cell_type": "code",
   "execution_count": null,
   "id": "f148fc52-be3b-4578-bb51-b1e04f951684",
   "metadata": {},
   "outputs": [],
   "source": [
    "def random_augment(image, steering_angle):\n",
    "    image = mpimg.imread(image)\n",
    "    if np.random.rand() < 0.5:\n",
    "        pan = augmenters.Affine(translate_percent={'x': (-0.1, 0.1), 'y': (-0.1, 0.1)})\n",
    "        image = pan.augment_image(image)\n",
    "\n",
    "    if np.random.rand() < 0.5:\n",
    "        zoom = augmenters.Affine(scale=(1, 1.3))\n",
    "        image = zoom.augment_image(image)\n",
    "\n",
    "    if np.random.rand() < 0.5:\n",
    "        brightness = augmenters.Multiply((0.2, 1.2))\n",
    "        image = brightness.augment_image(image)\n",
    "\n",
    "    if np.random.rand() < 0.5:\n",
    "        image = cv2.flip(image, 1)\n",
    "        steering_angle = -steering_angle\n",
    "\n",
    "    return image, steering_angle"
   ]
  },
  {
   "cell_type": "code",
   "execution_count": null,
   "id": "fd5e776c-ea0b-46af-81ce-5b0d15d148cb",
   "metadata": {},
   "outputs": [],
   "source": [
    "def preprocess_img(img):\n",
    "    img = img[60:135, :, :]\n",
    "    img = cv2.cvtColor(img, cv2.COLOR_RGB2YUV)\n",
    "    img = cv2.GaussianBlur(img, (3, 3), 0)\n",
    "    img = cv2.resize(img, (200, 66))\n",
    "    return img / 255.0"
   ]
  },
  {
   "cell_type": "code",
   "execution_count": null,
   "id": "bac28f39-4bbd-4776-ac49-1f005ba1ccd5",
   "metadata": {},
   "outputs": [],
   "source": [
    "def batch_generator(image_paths, steering_angles, batch_size, is_training):\n",
    "    while True:\n",
    "        batch_images = []\n",
    "        batch_steerings = []\n",
    "\n",
    "        for i in range(batch_size):\n",
    "            random_index = random.randint(0, len(image_paths) - 1)\n",
    "            image_idx = image_paths[random_index]\n",
    "            image = mpimg.imread(image_idx)\n",
    "            steering = steering_angles[random_index]\n",
    "\n",
    "            if is_training:\n",
    "                image, steering = random_augment(image_idx, steering)\n",
    "\n",
    "            image = preprocess_img(image)\n",
    "            batch_images.append(image)\n",
    "            batch_steerings.append(steering)\n",
    "\n",
    "        yield np.asarray(batch_images), np.asarray(batch_steerings)"
   ]
  },
  {
   "cell_type": "code",
   "execution_count": null,
   "id": "80d0b3c6-b9ff-4c46-bbdc-818c0ccd7744",
   "metadata": {},
   "outputs": [],
   "source": [
    "train_generator = batch_generator(X_train, y_train, 100, 1)\n",
    "test_generator = batch_generator(X_test, y_test, 100, 0)"
   ]
  },
  {
   "cell_type": "markdown",
   "id": "4ceff5e1-a74d-417b-b7e3-4e396e4a0bd3",
   "metadata": {},
   "source": [
    "# Model"
   ]
  },
  {
   "cell_type": "code",
   "execution_count": null,
   "id": "8793dffa-c076-4c13-9d87-2908c58e53bb",
   "metadata": {},
   "outputs": [],
   "source": [
    "model = models.Sequential([\n",
    "    layers.Lambda(lambda x: x / 255.0, input_shape=(66, 200, 3)),\n",
    "\n",
    "    layers.Conv2D(24, kernel_size=(5, 5), strides=(2, 2), activation='relu'),\n",
    "    layers.Conv2D(36, kernel_size=(5, 5), strides=(2, 2), activation='relu'),\n",
    "    layers.Conv2D(48, kernel_size=(5, 5), strides=(2, 2), activation='relu'),\n",
    "    layers.Conv2D(64, kernel_size=(3, 3), activation='relu'),\n",
    "    layers.Conv2D(64, kernel_size=(3, 3), activation='relu'),\n",
    "\n",
    "    layers.Dropout(0.5),\n",
    "\n",
    "    layers.Flatten(),\n",
    "\n",
    "    layers.Dense(100, activation='relu'),\n",
    "    layers.Dropout(0.5),\n",
    "    layers.Dense(50, activation='relu'),\n",
    "    layers.Dense(10, activation='relu'),\n",
    "\n",
    "    layers.Dense(1)\n",
    "])"
   ]
  },
  {
   "cell_type": "code",
   "execution_count": null,
   "id": "60876a80-4a73-48eb-b435-66de4f1b5305",
   "metadata": {},
   "outputs": [],
   "source": [
    "model.compile(loss='mse', optimizer=optimizers.Adam(learning_rate=1e-3))"
   ]
  },
  {
   "cell_type": "code",
   "execution_count": null,
   "id": "f8820b4c-0fe5-4e65-9dd2-e9ace40d2083",
   "metadata": {},
   "outputs": [],
   "source": [
    "model.summary()"
   ]
  },
  {
   "cell_type": "code",
   "execution_count": null,
   "id": "60e38215-33b7-498a-a4e0-ca709e100c54",
   "metadata": {},
   "outputs": [],
   "source": [
    "plot_model(model, show_layer_names=True, show_shapes=True)"
   ]
  },
  {
   "cell_type": "markdown",
   "id": "35b21ce1-a5d0-4132-850f-45f5e0165ef9",
   "metadata": {},
   "source": [
    "# Train"
   ]
  },
  {
   "cell_type": "code",
   "execution_count": null,
   "id": "7bfb125b-818c-4fb4-8514-49be8ba96f9f",
   "metadata": {
    "scrolled": true
   },
   "outputs": [],
   "source": [
    "history = model.fit_generator(\n",
    "    train_generator,\n",
    "    steps_per_epoch = 300,\n",
    "    validation_data = test_generator,\n",
    "    validation_steps = 200,\n",
    "    epochs = 25\n",
    ")"
   ]
  },
  {
   "cell_type": "markdown",
   "id": "f08fad76-2431-4e88-86fd-3fcf22260de1",
   "metadata": {},
   "source": [
    "# Results"
   ]
  },
  {
   "cell_type": "code",
   "execution_count": null,
   "id": "2e8fefd5-dc41-4032-baf1-f971b840be04",
   "metadata": {},
   "outputs": [],
   "source": [
    "history_df = pd.DataFrame(history.history)\n",
    "history_df.head()"
   ]
  },
  {
   "cell_type": "code",
   "execution_count": null,
   "id": "4e5d3b01-d4f5-4d12-b66c-2aa6e5585f37",
   "metadata": {},
   "outputs": [],
   "source": [
    "plt.figure()\n",
    "plt.plot(history.history[\"loss\"])\n",
    "plt.plot(history.history[\"val_loss\"])\n",
    "plt.xlabel(\"Epoch\")\n",
    "plt.ylabel(\"Loss\")\n",
    "plt.legend([\"train\", \"valid\"])\n",
    "plt.title(\"Loss Curve\")\n",
    "plt.show()"
   ]
  },
  {
   "cell_type": "code",
   "execution_count": null,
   "id": "16741976-e986-49a7-ae5f-26d268179f1b",
   "metadata": {},
   "outputs": [],
   "source": [
    "model.save('self_driving_car_model.h5')"
   ]
  }
 ],
 "metadata": {
  "kernelspec": {
   "display_name": "Python 3 (ipykernel)",
   "language": "python",
   "name": "python3"
  },
  "language_info": {
   "codemirror_mode": {
    "name": "ipython",
    "version": 3
   },
   "file_extension": ".py",
   "mimetype": "text/x-python",
   "name": "python",
   "nbconvert_exporter": "python",
   "pygments_lexer": "ipython3",
   "version": "3.10.12"
  }
 },
 "nbformat": 4,
 "nbformat_minor": 5
}
